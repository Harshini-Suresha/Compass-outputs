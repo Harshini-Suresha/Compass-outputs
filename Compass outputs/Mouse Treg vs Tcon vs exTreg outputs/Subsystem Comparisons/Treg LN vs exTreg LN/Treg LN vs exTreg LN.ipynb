{
 "cells": [
  {
   "cell_type": "code",
   "execution_count": 1,
   "id": "099e813e-9efc-4f91-a54a-9ac65c110c5a",
   "metadata": {},
   "outputs": [
    {
     "name": "stdout",
     "output_type": "stream",
     "text": [
      "Index(['Unnamed: 0', 'wilcox_stat', 'wilcox_pval', 'cohens_d', 'adjusted_pval',\n",
      "       'metadata_r_id', 'reaction_name', 'formula', 'associated_genes',\n",
      "       'subsystem', 'EC_number', 'confidence'],\n",
      "      dtype='object')\n"
     ]
    }
   ],
   "source": [
    "import pandas as pd\n",
    "\n",
    "df = pd.read_csv('final_stats_with_metadata.csv')\n",
    "\n",
    "print(df.columns)"
   ]
  },
  {
   "cell_type": "code",
   "execution_count": 2,
   "id": "fc69d571-cf57-45bd-bc60-493b3976a70c",
   "metadata": {},
   "outputs": [
    {
     "name": "stdout",
     "output_type": "stream",
     "text": [
      "                                       subsystem  adjusted_pval\n",
      "16                         Tryptophan metabolism       0.001565\n",
      "21                             Lysine metabolism       0.001565\n",
      "26    Valine, leucine, and isoleucine metabolism       0.001565\n",
      "37                         Aminosugar metabolism       0.015267\n",
      "39                         Aminosugar metabolism       0.015267\n",
      "...                                          ...            ...\n",
      "1783                        Fatty acid oxidation       0.001565\n",
      "1784                        Fatty acid oxidation       0.001565\n",
      "1785                        Fatty acid oxidation       0.001565\n",
      "1786                        Fatty acid oxidation       0.001565\n",
      "1787                        Fatty acid oxidation       0.001565\n",
      "\n",
      "[265 rows x 2 columns]\n"
     ]
    }
   ],
   "source": [
    "filtered_df = df[df['adjusted_pval'] < 0.05]\n",
    "print(filtered_df[['subsystem', 'adjusted_pval']])"
   ]
  },
  {
   "cell_type": "code",
   "execution_count": 3,
   "id": "2fcfe428-5c1a-4b5e-aa93-949a48a6c0ea",
   "metadata": {},
   "outputs": [],
   "source": [
    "filtered_df.to_csv('filtered_pathways_padj_lt_0.05.csv', index=False)"
   ]
  },
  {
   "cell_type": "code",
   "execution_count": 4,
   "id": "8c7e2ef2-c2d9-4ff2-9119-ec6332dec753",
   "metadata": {},
   "outputs": [
    {
     "name": "stdout",
     "output_type": "stream",
     "text": [
      "    Unnamed: 0  wilcox_stat  wilcox_pval  cohens_d  adjusted_pval  \\\n",
      "47   GLYOX_pos         60.0      0.00025  2.108721       0.001565   \n",
      "56   LALDO_pos         60.0      0.00025  2.030907       0.001565   \n",
      "173  r0055_neg         60.0      0.00025  2.108721       0.001565   \n",
      "\n",
      "    metadata_r_id                                      reaction_name  \\\n",
      "47          GLYOX                   hydroxyacylglutathione hydrolase   \n",
      "56          LALDO  D-Lactaldehyde:NAD+ oxidoreductase (glutathion...   \n",
      "173         r0055  2-Oxopropanal:NADP+ oxidoreductase Pyruvate me...   \n",
      "\n",
      "                                               formula associated_genes  \\\n",
      "47   1.00 * Water [c] + 1.00 * (R)-S-lactoylglutath...      HAGH; HAGHL   \n",
      "56   1.00 * Nicotinamide adenine dinucleotide [c] +...             ADH5   \n",
      "173  1.00 * Water [c] + 1.00 * Nicotinamide adenine...              NaN   \n",
      "\n",
      "               subsystem EC_number  confidence  \n",
      "47   Pyruvate metabolism   3.1.2.6         4.0  \n",
      "56   Pyruvate metabolism   1.1.1.1         0.0  \n",
      "173  Pyruvate metabolism  1.2.1.49         0.0  \n"
     ]
    }
   ],
   "source": [
    "import pandas as pd\n",
    "\n",
    "filtered_df = pd.read_csv('filtered_pathways_padj_lt_0.05.csv')\n",
    "\n",
    "metadata_df = pd.read_csv('reaction_metadata.csv')\n",
    "\n",
    "pyruvate_metadata = metadata_df[metadata_df['subsystem'].str.lower() == 'pyruvate metabolism']\n",
    "\n",
    "pyruvate_reactions = pyruvate_metadata['reaction_name'].unique()\n",
    "\n",
    "filtered_pyruvate_df = filtered_df[filtered_df['reaction_name'].isin(pyruvate_reactions)]\n",
    "\n",
    "print(filtered_pyruvate_df)\n",
    "\n",
    "filtered_pyruvate_df.to_csv('filtered_pyruvate_pathways.csv', index=False)"
   ]
  },
  {
   "cell_type": "code",
   "execution_count": 5,
   "id": "0c706bc6-bcc1-45a3-9d78-470a08b1a7e0",
   "metadata": {},
   "outputs": [],
   "source": [
    "positive_df = filtered_pyruvate_df[filtered_pyruvate_df['reaction_name'].str.endswith('_pos')]\n",
    "\n",
    "negative_df = filtered_pyruvate_df[filtered_pyruvate_df['reaction_name'].str.endswith('_neg')]\n",
    "positive_df.to_csv('filtered_pyruvate_pos.csv', index=False)\n",
    "negative_df.to_csv('filtered_pyruvate_neg.csv', index=False)"
   ]
  },
  {
   "cell_type": "code",
   "execution_count": 6,
   "id": "89708028-1e18-42a7-bf50-b639380ac832",
   "metadata": {},
   "outputs": [
    {
     "name": "stdout",
     "output_type": "stream",
     "text": [
      "Index(['reaction_no_direction', 'reaction_name', 'formula', 'associated_genes',\n",
      "       'subsystem', 'EC_number', 'confidence'],\n",
      "      dtype='object')\n"
     ]
    }
   ],
   "source": [
    "import pandas as pd\n",
    "\n",
    "meta_df = pd.read_csv('reaction_metadata.csv')\n",
    "\n",
    "print(meta_df.columns)"
   ]
  },
  {
   "cell_type": "code",
   "execution_count": 7,
   "id": "adc45e68-b602-47a0-af9f-e7855a2629bd",
   "metadata": {},
   "outputs": [
    {
     "name": "stdout",
     "output_type": "stream",
     "text": [
      "     reaction_no_direction                                      reaction_name  \\\n",
      "234                 ACOAHi                               acetyl-CoA hydrolase   \n",
      "252                 ACTLMO                               acetol monooxygenase   \n",
      "253                 ACTNMO                              acetone monooxygenase   \n",
      "361               ALCD21_D          alcohol dehydrogenase (D-1,2-propanediol)   \n",
      "362               ALCD21_L          alcohol dehydrogenase (L-1,2-propanediol)   \n",
      "363               ALCD22_D             alcohol dehydrogenase (D-lactaldehyde)   \n",
      "364               ALCD22_L             alcohol dehydrogenase (L-lactaldehyde)   \n",
      "381                   ALR2                   aldose reductase (methylglyoxal)   \n",
      "382                   ALR3                          aldose reductase (acetol)   \n",
      "2108                 GLYOX                   hydroxyacylglutathione hydrolase   \n",
      "2109                GLYOXm    hydroxyacylglutathione hydrolase, mitochondrial   \n",
      "2368                 LALDO  D-Lactaldehyde:NAD+ oxidoreductase (glutathion...   \n",
      "2369               LALDO2x               D-Lactaldehyde:NAD+ 1-oxidoreductase   \n",
      "2371                 LCADi                         lactaldehyde dehydrogenase   \n",
      "2372               LCADi_D                         lactaldehyde dehydrogenase   \n",
      "2373              LCADi_Dm          lactaldehyde dehydrogenase, mitochondrial   \n",
      "2374                LCADim          lactaldehyde dehydrogenase, mitochondrial   \n",
      "2381                 LDH_D                            D-lactate dehydrogenase   \n",
      "2383                LDH_Lm                            L-lactate dehydrogenase   \n",
      "2404                 LGTHL                           lactoylglutathione lyase   \n",
      "2411              L_LACDcm   L-Lactate dehydrogenase, cytosolic/mitochondrial   \n",
      "2516                  ME1m                  malic enzyme (NAD), mitochondrial   \n",
      "2517                   ME2                                malic enzyme (NADP)   \n",
      "2518                  ME2m                 malic enzyme (NADP), mitochondrial   \n",
      "2540                  MGSA                             methylglyoxal synthase   \n",
      "2541                 MGSA2              methyglyoxylate synthase 2 (from g3p)   \n",
      "2923                   PCm                               pyruvate carboxylase   \n",
      "3063                 PPDOx             Propane-1,2-diol:NAD+ 1-oxidoreductase   \n",
      "3064                 PPDOy            Propane-1,2-diol:NADP+ 1-oxidoreductase   \n",
      "3787                 r0055  2-Oxopropanal:NADP+ oxidoreductase Pyruvate me...   \n",
      "3789                 r0062  Acetyl-CoA hydrolase Pyruvate metabolism EC:3....   \n",
      "4133                 r0818                                 Transport reaction   \n",
      "\n",
      "                subsystem  \n",
      "234   Pyruvate metabolism  \n",
      "252   Pyruvate metabolism  \n",
      "253   Pyruvate metabolism  \n",
      "361   Pyruvate metabolism  \n",
      "362   Pyruvate metabolism  \n",
      "363   Pyruvate metabolism  \n",
      "364   Pyruvate metabolism  \n",
      "381   Pyruvate metabolism  \n",
      "382   Pyruvate metabolism  \n",
      "2108  Pyruvate metabolism  \n",
      "2109  Pyruvate metabolism  \n",
      "2368  Pyruvate metabolism  \n",
      "2369  Pyruvate metabolism  \n",
      "2371  Pyruvate metabolism  \n",
      "2372  Pyruvate metabolism  \n",
      "2373  Pyruvate metabolism  \n",
      "2374  Pyruvate metabolism  \n",
      "2381  Pyruvate metabolism  \n",
      "2383  Pyruvate metabolism  \n",
      "2404  Pyruvate metabolism  \n",
      "2411  Pyruvate metabolism  \n",
      "2516  Pyruvate metabolism  \n",
      "2517  Pyruvate metabolism  \n",
      "2518  Pyruvate metabolism  \n",
      "2540  Pyruvate metabolism  \n",
      "2541  Pyruvate metabolism  \n",
      "2923  Pyruvate metabolism  \n",
      "3063  Pyruvate metabolism  \n",
      "3064  Pyruvate metabolism  \n",
      "3787  Pyruvate metabolism  \n",
      "3789  Pyruvate metabolism  \n",
      "4133  Pyruvate metabolism  \n"
     ]
    }
   ],
   "source": [
    "pyruvate_df = meta_df[meta_df['subsystem'].str.contains('Pyruvate Metabolism', case=False, na=False)]\n",
    "\n",
    "print(pyruvate_df[['reaction_no_direction', 'reaction_name', 'subsystem']])"
   ]
  },
  {
   "cell_type": "code",
   "execution_count": 8,
   "id": "00e55ca7-dad6-4770-984e-e611b9188a5a",
   "metadata": {},
   "outputs": [],
   "source": [
    "import pandas as pd\n",
    "\n",
    "filtered_df = pd.read_csv('final_stats_with_metadata.csv')\n",
    "metadata_df = pd.read_csv('reaction_metadata.csv')\n",
    "\n",
    "pyruvate_metadata = metadata_df[metadata_df['subsystem'].str.lower() == 'pyruvate metabolism']\n",
    "pyruvate_reactions = pyruvate_metadata['reaction_name'].unique()\n",
    "\n",
    "pyruvate_not_significant = filtered_df[\n",
    "    (filtered_df['reaction_name'].isin(pyruvate_reactions)) &\n",
    "    (filtered_df['adjusted_pval'] >= 0.05)\n",
    "]\n",
    "\n",
    "pyruvate_not_significant.to_csv('pyruvate_metabolism_padj_gte_0.05.csv', index=False)"
   ]
  },
  {
   "cell_type": "code",
   "execution_count": 9,
   "id": "314d2732-d06e-40b8-8d6d-f2226e4e4e3f",
   "metadata": {},
   "outputs": [
    {
     "name": "stdout",
     "output_type": "stream",
     "text": [
      "Unique subsystems with padj < 0.05:\n",
      "Tryptophan metabolism\n",
      "Lysine metabolism\n",
      "Valine, leucine, and isoleucine metabolism\n",
      "Aminosugar metabolism\n",
      "Phosphatidylinositol phosphate metabolism\n",
      "Purine catabolism\n",
      "Fatty acid oxidation\n",
      "Alanine and aspartate metabolism\n",
      "Pentose phosphate pathway\n",
      "Nucleotide interconversion\n",
      "Oxidative phosphorylation\n",
      "Cholesterol metabolism\n",
      "Methionine and cysteine metabolism\n",
      "D-alanine metabolism\n",
      "Pyrimidine catabolism\n",
      "Folate metabolism\n",
      "Glycerophospholipid metabolism\n",
      "Urea cycle\n",
      "Galactose metabolism\n",
      "Glyoxylate and dicarboxylate metabolism\n",
      "Pyruvate metabolism\n",
      "Histidine metabolism\n",
      "Steroid metabolism\n",
      "Other\n",
      "Inositol phosphate metabolism\n",
      "NAD metabolism\n",
      "Bile acid synthesis\n",
      "Arginine and Proline Metabolism\n",
      "Glycolysis/gluconeogenesis\n",
      "CoA synthesis\n",
      "Vitamin A metabolism\n",
      "Miscellaneous\n",
      "Pyrimidine synthesis\n",
      "Fructose and mannose metabolism\n",
      "Vitamin B2 metabolism\n",
      "Glycine, serine, alanine and threonine metabolism\n",
      "Tetrahydrobiopterin metabolism\n",
      "Glutathione metabolism\n",
      "Cysteine Metabolism\n",
      "Unassigned\n",
      "Taurine and hypotaurine metabolism\n",
      "CoA catabolism\n",
      "Propanoate metabolism\n"
     ]
    }
   ],
   "source": [
    "import pandas as pd\n",
    "\n",
    "df = pd.read_csv('filtered_pathways_padj_lt_0.05.csv')\n",
    "\n",
    "unique_subsystems = df['subsystem'].dropna().unique()\n",
    "\n",
    "print(\"Unique subsystems with padj < 0.05:\")\n",
    "for subsystem in unique_subsystems:\n",
    "    print(subsystem)"
   ]
  },
  {
   "cell_type": "code",
   "execution_count": 10,
   "id": "d69122d5-3ef8-435b-ae9f-dcad1fe812aa",
   "metadata": {},
   "outputs": [],
   "source": [
    "import pandas as pd\n",
    "\n",
    "df = pd.read_csv('filtered_pathways_padj_lt_0.05.csv')\n",
    "\n",
    "unique_subsystems = df['subsystem'].dropna().unique()\n",
    "\n",
    "subsystem_df = pd.DataFrame(unique_subsystems, columns=['subsystem'])\n",
    "\n",
    "subsystem_df.to_csv('Unique subsystems with padj lt 0.05.csv', index=False)\n"
   ]
  },
  {
   "cell_type": "code",
   "execution_count": 11,
   "id": "adecac0c-c5bc-4654-befd-b3ac976f2590",
   "metadata": {},
   "outputs": [
    {
     "name": "stdout",
     "output_type": "stream",
     "text": [
      "Unique Subsystems in reaction_metadata.csv:\n",
      "Transport, lysosomal\n",
      "Transport, mitochondrial\n",
      "Transport, endoplasmic reticular\n",
      "beta-Alanine metabolism\n",
      "Vitamin D metabolism\n",
      "Transport, extracellular\n",
      "Lysine metabolism\n",
      "Glycine, serine, alanine and threonine metabolism\n",
      "Methionine and cysteine metabolism\n",
      "Pyrimidine catabolism\n",
      "Propanoate metabolism\n",
      "Tryptophan metabolism\n",
      "Tyrosine metabolism\n",
      "Ubiquinone synthesis\n",
      "Transport, nuclear\n",
      "Valine, leucine, and isoleucine metabolism\n",
      "Sphingolipid metabolism\n",
      "Butanoate metabolism\n",
      "Purine catabolism\n",
      "Taurine and hypotaurine metabolism\n",
      "Arginine and Proline Metabolism\n",
      "Cytochrome metabolism\n",
      "Steroid metabolism\n",
      "Heme synthesis\n",
      "N-glycan degradation\n",
      "O-glycan synthesis\n",
      "Blood group synthesis\n",
      "Glutamate metabolism\n",
      "Pentose phosphate pathway\n",
      "Cholesterol metabolism\n",
      "Fatty acid oxidation\n",
      "Transport, peroxisomal\n",
      "Transport, golgi apparatus\n",
      "Aminosugar metabolism\n",
      "Phosphatidylinositol phosphate metabolism\n",
      "Urea cycle\n",
      "Glycerophospholipid metabolism\n",
      "Citric acid cycle\n",
      "Pyruvate metabolism\n",
      "Bile acid synthesis\n",
      "Vitamin B2 metabolism\n",
      "Glycolysis/gluconeogenesis\n",
      "Nucleotide interconversion\n",
      "Nucleotide salvage pathway\n",
      "Selenoamino acid metabolism\n",
      "Purine synthesis\n",
      "Keratan sulfate synthesis\n",
      "Triacylglycerol synthesis\n",
      "Alanine and aspartate metabolism\n",
      "Miscellaneous\n",
      "Eicosanoid metabolism\n",
      "Glutathione metabolism\n",
      "Starch and sucrose metabolism\n",
      "Biotin metabolism\n",
      "R group synthesis\n",
      "Unassigned\n",
      "Vitamin C metabolism\n",
      "Pyrimidine synthesis\n",
      "Oxidative phosphorylation\n",
      "Vitamin A metabolism\n",
      "Stilbene, coumarine and lignin synthesis\n",
      "N-glycan synthesis\n",
      "Heme degradation\n",
      "Limonene and pinene degradation\n",
      "ROS detoxification\n",
      "Vitamin B12 metabolism\n",
      "C5-branched dibasic acid metabolism\n",
      "Alkaloid synthesis\n",
      "Chondroitin sulfate degradation\n",
      "D-alanine metabolism\n",
      "Fatty acid synthesis\n",
      "Folate metabolism\n",
      "Tetrahydrobiopterin metabolism\n",
      "Exchange/demand reaction\n",
      "CoA synthesis\n",
      "Keratan sulfate degradation\n",
      "Fructose and mannose metabolism\n",
      "Glyoxylate and dicarboxylate metabolism\n",
      "Galactose metabolism\n",
      "Nucleotide sugar metabolism\n",
      "Chondroitin synthesis\n",
      "Heparan sulfate degradation\n",
      "Hyaluronan metabolism\n",
      "Histidine metabolism\n",
      "Vitamin B6 metabolism\n",
      "Inositol phosphate metabolism\n",
      "CoA catabolism\n",
      "NAD metabolism\n",
      "Phenylalanine metabolism\n",
      "Thiamine metabolism\n",
      "Cysteine Metabolism\n",
      "Androgen and estrogen synthesis and metabolism\n",
      "Lipoate metabolism\n",
      "Arachidonic acid metabolism\n",
      "Vitamin E metabolism\n",
      "Linoleate metabolism\n",
      "Glycosphingolipid metabolism\n",
      "Xenobiotics metabolism\n",
      "Dietary fiber binding\n",
      "Squalene and cholesterol synthesis\n"
     ]
    }
   ],
   "source": [
    "import pandas as pd\n",
    "\n",
    "metadata_df = pd.read_csv('reaction_metadata.csv')\n",
    "\n",
    "unique_subsystems = metadata_df['subsystem'].dropna().unique()\n",
    "\n",
    "print(\"Unique Subsystems in reaction_metadata.csv:\")\n",
    "for subsystem in unique_subsystems:\n",
    "    print(subsystem)\n",
    "\n",
    "subsystem_df = pd.DataFrame(unique_subsystems, columns=['subsystem'])\n",
    "subsystem_df.to_csv('unique_subsystems_from_reaction_metadata.csv', index=False)"
   ]
  },
  {
   "cell_type": "code",
   "execution_count": 12,
   "id": "91ae14f5-ddd0-4261-a7df-f0aa61c9f334",
   "metadata": {},
   "outputs": [
    {
     "name": "stdout",
     "output_type": "stream",
     "text": [
      " Number of unique pathways (reaction_name): 1061\n",
      " Number of unique subsystems: 83\n"
     ]
    }
   ],
   "source": [
    "import pandas as pd\n",
    "\n",
    "df = pd.read_csv('final_stats_with_metadata.csv')\n",
    "\n",
    "num_pathways = df['reaction_name'].nunique()\n",
    "num_subsystems = df['subsystem'].nunique()\n",
    "\n",
    "print(f\" Number of unique pathways (reaction_name): {num_pathways}\")\n",
    "print(f\" Number of unique subsystems: {num_subsystems}\")\n",
    "\n",
    "counts_df = pd.DataFrame({\n",
    "    'category': ['unique_pathways', 'unique_subsystems'],\n",
    "    'count': [num_pathways, num_subsystems]\n",
    "})\n",
    "\n",
    "counts_df.to_csv('final_stats_counts subsytem count.csv', index=False)"
   ]
  },
  {
   "cell_type": "code",
   "execution_count": 13,
   "id": "06770d5b-745a-4b60-b982-f1422493d0ca",
   "metadata": {},
   "outputs": [],
   "source": [
    "import pandas as pd\n",
    "df = pd.read_csv('final_stats_with_metadata.csv')\n",
    "\n",
    "unique_pathways = df['reaction_name'].dropna().unique()\n",
    "num_pathways = len(unique_pathways)\n",
    "\n",
    "unique_subsystems = df['subsystem'].dropna().unique()\n",
    "num_subsystems = len(unique_subsystems)\n",
    "\n",
    "pathway_df = pd.DataFrame({'reaction_name': unique_pathways})\n",
    "subsystem_df = pd.DataFrame({'subsystem': unique_subsystems})\n",
    "\n",
    "pathway_count_df = pd.DataFrame({'reaction_name': [f'Total pathways: {num_pathways}']})\n",
    "subsystem_count_df = pd.DataFrame({'subsystem': [f'Total subsystems: {num_subsystems}']})\n",
    "\n",
    "final_pathway_df = pd.concat([pathway_count_df, pathway_df], ignore_index=True)\n",
    "final_subsystem_df = pd.concat([subsystem_count_df, subsystem_df], ignore_index=True)\n",
    "\n",
    "with pd.ExcelWriter('final_stats_pathways_and_subsystems.xlsx') as writer:\n",
    "    final_pathway_df.to_excel(writer, sheet_name='Pathways', index=False)\n",
    "    final_subsystem_df.to_excel(writer, sheet_name='Subsystems', index=False)"
   ]
  },
  {
   "cell_type": "code",
   "execution_count": 9,
   "id": "730926e2-451e-4844-bc15-4a98669275e0",
   "metadata": {},
   "outputs": [
    {
     "name": "stdout",
     "output_type": "stream",
     "text": [
      "group                                       subsystem  p<0.05_Pos_d<0  \\\n",
      "0                    Alanine and aspartate metabolism               0   \n",
      "1                               Aminosugar metabolism               0   \n",
      "2      Androgen and estrogen synthesis and metabolism               0   \n",
      "3                         Arachidonic acid metabolism               0   \n",
      "4                     Arginine and Proline Metabolism               0   \n",
      "\n",
      "group  p<0.05_Pos_d>0  p<0.05_Neg_d<0  p<0.05_Neg_d>0  p≥0.05_Pos_d<0  \\\n",
      "0                   2               0               0               6   \n",
      "1                   8               0               0               1   \n",
      "2                   1               0               0               0   \n",
      "3                   0               0               0               0   \n",
      "4                   7               0               1               3   \n",
      "\n",
      "group  p≥0.05_Pos_d>0  p≥0.05_Neg_d<0  p≥0.05_Neg_d>0  \n",
      "0                   2               1               1  \n",
      "1                   7               0               1  \n",
      "2                   0               0               1  \n",
      "3                   1               0               1  \n",
      "4                   2               3               0  \n"
     ]
    }
   ],
   "source": [
    "import pandas as pd\n",
    "df = pd.read_csv(\"final_stats_with_metadata.csv\")\n",
    "df[\"polarity\"] = df[\"Unnamed: 0\"].apply(lambda x: \"Pos\" if \"_pos\" in x else (\"Neg\" if \"_neg\" in x else None))\n",
    "\n",
    "\n",
    "df[\"significance\"] = df[\"adjusted_pval\"].apply(lambda x: \"p<0.05\" if x < 0.05 else \"p≥0.05\")\n",
    "\n",
    "df[\"direction\"] = df[\"cohens_d\"].apply(lambda d: \"d<0\" if d < 0 else (\"d>0\" if d > 0 else None))\n",
    "\n",
    "df = df.dropna(subset=[\"polarity\", \"direction\"])\n",
    "\n",
    "df[\"group\"] = df[\"significance\"] + \"_\" + df[\"polarity\"] + \"_\" + df[\"direction\"]\n",
    "\n",
    "summary = df.groupby([\"subsystem\", \"group\"]).size().unstack(fill_value=0)\n",
    "\n",
    "final_cols = [\n",
    "    \"p<0.05_Pos_d<0\", \"p<0.05_Pos_d>0\", \"p<0.05_Neg_d<0\", \"p<0.05_Neg_d>0\",\n",
    "    \"p≥0.05_Pos_d<0\", \"p≥0.05_Pos_d>0\", \"p≥0.05_Neg_d<0\", \"p≥0.05_Neg_d>0\"\n",
    "]\n",
    "for col in final_cols:\n",
    "    if col not in summary.columns:\n",
    "        summary[col] = 0\n",
    "\n",
    "summary = summary[final_cols]\n",
    "summary = summary.reset_index()\n",
    "\n",
    "summary.to_csv(\"subsystem_detailed_significance_counts.csv\", index=False)\n",
    "\n",
    "print(summary.head())"
   ]
  },
  {
   "cell_type": "code",
   "execution_count": 15,
   "id": "2bc3f111-a175-4d9a-8a31-44b9d6847ae5",
   "metadata": {},
   "outputs": [
    {
     "name": "stdout",
     "output_type": "stream",
     "text": [
      "group                                       subsystem  p<0.05_Pos  p<0.05_Neg  \\\n",
      "0                    Alanine and aspartate metabolism           1           0   \n",
      "1                               Aminosugar metabolism           4           1   \n",
      "2      Androgen and estrogen synthesis and metabolism           0           0   \n",
      "3                         Arachidonic acid metabolism           0           0   \n",
      "4                     Arginine and Proline Metabolism           2           1   \n",
      "\n",
      "group  p≥0.05_Pos  p≥0.05_Neg  \n",
      "0               9           2  \n",
      "1              12           0  \n",
      "2               1           1  \n",
      "3               1           1  \n",
      "4              10           3  \n"
     ]
    }
   ],
   "source": [
    "import pandas as pd\n",
    "\n",
    "df = pd.read_csv(\"final_stats_with_metadata.csv\")  \n",
    "\n",
    "df[\"direction\"] = df[\"Unnamed: 0\"].apply(lambda x: \"Pos\" if \"_pos\" in x else (\"Neg\" if \"_neg\" in x else None))\n",
    "\n",
    "df = df.dropna(subset=[\"direction\"])\n",
    "\n",
    "df[\"category\"] = df[\"adjusted_pval\"].apply(lambda p: \"p<0.05\" if p < 0.05 else \"p≥0.05\")\n",
    "\n",
    "df[\"group\"] = df[\"category\"] + \"_\" + df[\"direction\"]\n",
    "\n",
    "summary = df.groupby([\"subsystem\", \"group\"]).size().unstack(fill_value=0)\n",
    "\n",
    "for col in [\"p<0.05_Pos\", \"p<0.05_Neg\", \"p≥0.05_Pos\", \"p≥0.05_Neg\"]:\n",
    "    if col not in summary.columns:\n",
    "        summary[col] = 0\n",
    "\n",
    "summary = summary[[\"p<0.05_Pos\", \"p<0.05_Neg\", \"p≥0.05_Pos\", \"p≥0.05_Neg\"]]\n",
    "\n",
    "summary.reset_index(inplace=True)\n",
    "\n",
    "summary.to_csv(\"subsystem_significance_summary_only_pval.csv\", index=False)\n",
    "\n",
    "print(summary.head())"
   ]
  },
  {
   "cell_type": "code",
   "execution_count": 1,
   "id": "6a666b18-7a23-44bd-93d5-6aa2fb900119",
   "metadata": {},
   "outputs": [
    {
     "name": "stdout",
     "output_type": "stream",
     "text": [
      "                   Subsystem  Number_of_Reactions\n",
      "78  Transport, extracellular                 1550\n",
      "23      Fatty acid oxidation                  869\n",
      "22  Exchange/demand reaction                  742\n",
      "81  Transport, mitochondrial                  309\n",
      "21     Eicosanoid metabolism                  257\n"
     ]
    }
   ],
   "source": [
    "import pandas as pd\n",
    "\n",
    "df = pd.read_csv('reaction_metadata.csv')\n",
    "\n",
    "reaction_count = df.groupby('subsystem')['reaction_name'].count().reset_index()\n",
    "\n",
    "reaction_count.columns = ['Subsystem', 'Number_of_Reactions']\n",
    "reaction_count = reaction_count.sort_values(by='Number_of_Reactions', ascending=False)\n",
    "\n",
    "reaction_count.to_csv('subsystem_reaction_counts.csv', index=False)\n",
    "\n",
    "print(reaction_count.head())"
   ]
  },
  {
   "cell_type": "code",
   "execution_count": 2,
   "id": "0e390219-a900-4567-8f52-72cede1cabfe",
   "metadata": {},
   "outputs": [
    {
     "name": "stdout",
     "output_type": "stream",
     "text": [
      "                     subsystem  Number_of_Unique_Reactions\n",
      "22    Exchange/demand reaction                         714\n",
      "78    Transport, extracellular                         598\n",
      "23        Fatty acid oxidation                         571\n",
      "81    Transport, mitochondrial                         204\n",
      "52  Nucleotide interconversion                         166\n"
     ]
    }
   ],
   "source": [
    "import pandas as pd\n",
    "\n",
    "reaction_df = pd.read_csv(\"reaction_metadata.csv\")\n",
    "\n",
    "reaction_df_unique = reaction_df.drop_duplicates(subset=\"reaction_name\")\n",
    "\n",
    "subsystem_counts = (\n",
    "    reaction_df_unique.groupby(\"subsystem\")[\"reaction_name\"]\n",
    "    .nunique()\n",
    "    .reset_index()\n",
    "    .rename(columns={\"reaction_name\": \"Number_of_Unique_Reactions\"})\n",
    "    .sort_values(by=\"Number_of_Unique_Reactions\", ascending=False)\n",
    ")\n",
    "\n",
    "subsystem_counts.to_csv(\"subsystem_unique_reaction_counts.csv\", index=False)\n",
    "\n",
    "print(subsystem_counts.head())"
   ]
  },
  {
   "cell_type": "code",
   "execution_count": 3,
   "id": "feebff5b-c970-4e14-a2f1-f9fc7c423ed8",
   "metadata": {},
   "outputs": [
    {
     "name": "stdout",
     "output_type": "stream",
     "text": [
      "                                        subsystem  p<0.05_Pos  p<0.05_Neg  \\\n",
      "0                Alanine and aspartate metabolism           1           0   \n",
      "1                           Aminosugar metabolism           4           1   \n",
      "2  Androgen and estrogen synthesis and metabolism           0           0   \n",
      "3                     Arachidonic acid metabolism           0           0   \n",
      "4                 Arginine and Proline Metabolism           2           1   \n",
      "\n",
      "   p≥0.05_Pos  p≥0.05_Neg  Number_of_Unique_Reactions  \n",
      "0           9           2                        15.0  \n",
      "1          12           0                        27.0  \n",
      "2           1           1                        25.0  \n",
      "3           1           1                        29.0  \n",
      "4          10           3                        37.0  \n"
     ]
    }
   ],
   "source": [
    "import pandas as pd\n",
    "\n",
    "file1 = pd.read_csv('subsystem_significance_summary_only_pval.csv')\n",
    "file2 = pd.read_csv('subsystem_unique_reaction_counts.csv')\n",
    "\n",
    "merged_df = file1.merge(file2, on='subsystem', how='left')\n",
    "\n",
    "merged_df.to_csv('subsystem_significance_with_reaction_counts.csv', index=False)\n",
    "print(merged_df.head())"
   ]
  },
  {
   "cell_type": "code",
   "execution_count": null,
   "id": "57225b31-17c5-463c-a483-a7a0bbb399f4",
   "metadata": {},
   "outputs": [],
   "source": []
  }
 ],
 "metadata": {
  "kernelspec": {
   "display_name": "Python [conda env:base] *",
   "language": "python",
   "name": "conda-base-py"
  },
  "language_info": {
   "codemirror_mode": {
    "name": "ipython",
    "version": 3
   },
   "file_extension": ".py",
   "mimetype": "text/x-python",
   "name": "python",
   "nbconvert_exporter": "python",
   "pygments_lexer": "ipython3",
   "version": "3.10.16"
  }
 },
 "nbformat": 4,
 "nbformat_minor": 5
}
